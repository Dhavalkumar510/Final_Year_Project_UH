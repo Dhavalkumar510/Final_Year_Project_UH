{
  "nbformat": 4,
  "nbformat_minor": 0,
  "metadata": {
    "colab": {
      "provenance": [],
      "authorship_tag": "ABX9TyP3KjOFQj6mFF8aWfrzXLIz",
      "include_colab_link": true
    },
    "kernelspec": {
      "name": "python3",
      "display_name": "Python 3"
    },
    "language_info": {
      "name": "python"
    }
  },
  "cells": [
    {
      "cell_type": "markdown",
      "metadata": {
        "id": "view-in-github",
        "colab_type": "text"
      },
      "source": [
        "<a href=\"https://colab.research.google.com/github/Dhavalkumar510/Final_Year_Project_UH/blob/main/Final_Year_Project_UH.ipynb\" target=\"_parent\"><img src=\"https://colab.research.google.com/assets/colab-badge.svg\" alt=\"Open In Colab\"/></a>"
      ]
    },
    {
      "cell_type": "markdown",
      "source": [
        "# Importing necessary Libraray Functions"
      ],
      "metadata": {
        "id": "k0pj4WVTUZdH"
      }
    },
    {
      "cell_type": "code",
      "source": [
        "pip install yfinance"
      ],
      "metadata": {
        "colab": {
          "base_uri": "https://localhost:8080/"
        },
        "id": "0jmLwkNMUZCu",
        "outputId": "a09d1722-47e8-4348-81b0-fdb0de8610f4"
      },
      "execution_count": 2,
      "outputs": [
        {
          "output_type": "stream",
          "name": "stdout",
          "text": [
            "Requirement already satisfied: yfinance in /usr/local/lib/python3.10/dist-packages (0.2.48)\n",
            "Requirement already satisfied: pandas>=1.3.0 in /usr/local/lib/python3.10/dist-packages (from yfinance) (2.2.2)\n",
            "Requirement already satisfied: numpy>=1.16.5 in /usr/local/lib/python3.10/dist-packages (from yfinance) (1.26.4)\n",
            "Requirement already satisfied: requests>=2.31 in /usr/local/lib/python3.10/dist-packages (from yfinance) (2.32.3)\n",
            "Requirement already satisfied: multitasking>=0.0.7 in /usr/local/lib/python3.10/dist-packages (from yfinance) (0.0.11)\n",
            "Requirement already satisfied: lxml>=4.9.1 in /usr/local/lib/python3.10/dist-packages (from yfinance) (5.3.0)\n",
            "Requirement already satisfied: platformdirs>=2.0.0 in /usr/local/lib/python3.10/dist-packages (from yfinance) (4.3.6)\n",
            "Requirement already satisfied: pytz>=2022.5 in /usr/local/lib/python3.10/dist-packages (from yfinance) (2024.2)\n",
            "Requirement already satisfied: frozendict>=2.3.4 in /usr/local/lib/python3.10/dist-packages (from yfinance) (2.4.6)\n",
            "Requirement already satisfied: peewee>=3.16.2 in /usr/local/lib/python3.10/dist-packages (from yfinance) (3.17.7)\n",
            "Requirement already satisfied: beautifulsoup4>=4.11.1 in /usr/local/lib/python3.10/dist-packages (from yfinance) (4.12.3)\n",
            "Requirement already satisfied: html5lib>=1.1 in /usr/local/lib/python3.10/dist-packages (from yfinance) (1.1)\n",
            "Requirement already satisfied: soupsieve>1.2 in /usr/local/lib/python3.10/dist-packages (from beautifulsoup4>=4.11.1->yfinance) (2.6)\n",
            "Requirement already satisfied: six>=1.9 in /usr/local/lib/python3.10/dist-packages (from html5lib>=1.1->yfinance) (1.16.0)\n",
            "Requirement already satisfied: webencodings in /usr/local/lib/python3.10/dist-packages (from html5lib>=1.1->yfinance) (0.5.1)\n",
            "Requirement already satisfied: python-dateutil>=2.8.2 in /usr/local/lib/python3.10/dist-packages (from pandas>=1.3.0->yfinance) (2.8.2)\n",
            "Requirement already satisfied: tzdata>=2022.7 in /usr/local/lib/python3.10/dist-packages (from pandas>=1.3.0->yfinance) (2024.2)\n",
            "Requirement already satisfied: charset-normalizer<4,>=2 in /usr/local/lib/python3.10/dist-packages (from requests>=2.31->yfinance) (3.4.0)\n",
            "Requirement already satisfied: idna<4,>=2.5 in /usr/local/lib/python3.10/dist-packages (from requests>=2.31->yfinance) (3.10)\n",
            "Requirement already satisfied: urllib3<3,>=1.21.1 in /usr/local/lib/python3.10/dist-packages (from requests>=2.31->yfinance) (2.2.3)\n",
            "Requirement already satisfied: certifi>=2017.4.17 in /usr/local/lib/python3.10/dist-packages (from requests>=2.31->yfinance) (2024.8.30)\n"
          ]
        }
      ]
    },
    {
      "cell_type": "code",
      "source": [
        "import yfinance as yf\n",
        "from datetime import datetime\n",
        "import numpy as np\n",
        "import pandas as pd\n",
        "import matplotlib.pyplot as plt\n",
        "from tensorflow.keras.models import Sequential\n",
        "from tensorflow.keras.preprocessing.sequence import TimeseriesGenerator\n",
        "from sklearn.model_selection import train_test_split\n",
        "from sklearn.preprocessing import MinMaxScaler\n",
        "from tensorflow.keras.layers import LSTM, SimpleRNN, Dense, Dropout\n",
        "from keras.utils import plot_model\n",
        "from sklearn.metrics import mean_squared_error"
      ],
      "metadata": {
        "id": "pHUwR0hG8fOd"
      },
      "execution_count": 3,
      "outputs": []
    },
    {
      "cell_type": "code",
      "source": [
        "# Define the stock ticker (Lloyds Banking Group PLC)\n",
        "ticker = 'LLOY.L'\n",
        "\n",
        "# Get today's date in dd-mm-yyyy format\n",
        "today = datetime.today().strftime('%d-%m-%Y')\n",
        "\n",
        "# Fetch historical data until today\n",
        "yf_data = yf.download(ticker, start='2010-01-01', end=datetime.today().strftime('%Y-%m-%d'))\n",
        "\n",
        "# Convert the index to dd-mm-yyyy format\n",
        "yf_data.index = yf_data.index.strftime('%d-%m-%Y')\n",
        "\n",
        "# Reverse the DataFrame (last row becomes first)\n",
        "data = yf_data.iloc[::-1]\n",
        "\n",
        "# Display the DataFrame\n",
        "print(pd.DataFrame(data.tail(15)))"
      ],
      "metadata": {
        "colab": {
          "base_uri": "https://localhost:8080/"
        },
        "id": "uasAk0mxWOCE",
        "outputId": "3dac512b-d43a-4b37-8e6a-c91bf039ce7a"
      },
      "execution_count": 5,
      "outputs": [
        {
          "output_type": "stream",
          "name": "stderr",
          "text": [
            "\r[*********************100%***********************]  1 of 1 completed"
          ]
        },
        {
          "output_type": "stream",
          "name": "stdout",
          "text": [
            "Price       Adj Close      Close       High        Low       Open     Volume\n",
            "Ticker         LLOY.L     LLOY.L     LLOY.L     LLOY.L     LLOY.L     LLOY.L\n",
            "Date                                                                        \n",
            "22-01-2010  37.722561  53.599998  54.520000  51.000000  53.200001  372869448\n",
            "21-01-2010  37.511425  53.299999  57.599998  53.250000  57.000000  250911273\n",
            "20-01-2010  39.763515  56.500000  57.590000  56.139999  57.000000  226671275\n",
            "19-01-2010  40.164669  57.070000  58.509998  56.799999  58.189999  193189058\n",
            "18-01-2010  41.227383  58.580002  59.189999  57.430000  57.720001  129712433\n",
            "15-01-2010  39.960583  56.779999  58.509998  56.599998  57.709999  241352597\n",
            "14-01-2010  40.467304  57.500000  58.000000  56.580002  57.000000  225878876\n",
            "13-01-2010  39.411625  56.000000  56.200001  55.160000  55.639999  117598072\n",
            "12-01-2010  39.390518  55.970001  56.290001  55.080002  55.590000  189050155\n",
            "11-01-2010  39.503120  56.130001  57.950001  55.630001  57.799999  169834032\n",
            "08-01-2010  40.045036  56.900002  57.520000  56.160000  56.990002  178033888\n",
            "07-01-2010  40.066147  56.930000  57.070000  54.000000  54.860001  216171360\n",
            "06-01-2010  38.419296  54.590000  55.230000  53.169998  55.000000  142079248\n",
            "05-01-2010  38.025188  54.029999  54.759998  52.200001  52.500000  233026957\n",
            "04-01-2010  36.779491  52.259998  52.259998  51.099998  51.400002  167623403\n"
          ]
        },
        {
          "output_type": "stream",
          "name": "stderr",
          "text": [
            "\n"
          ]
        }
      ]
    },
    {
      "cell_type": "code",
      "source": [
        "# Save data to a CSV file\n",
        "data.to_csv(\"Lloyds_Bank_Data.csv\")"
      ],
      "metadata": {
        "id": "NA4UoXMMWhkU"
      },
      "execution_count": 6,
      "outputs": []
    },
    {
      "cell_type": "code",
      "source": [],
      "metadata": {
        "id": "LMd0VY3cBvz3"
      },
      "execution_count": 4,
      "outputs": []
    }
  ]
}